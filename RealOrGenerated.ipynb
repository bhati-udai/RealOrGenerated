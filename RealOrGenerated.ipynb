{
  "nbformat": 4,
  "nbformat_minor": 0,
  "metadata": {
    "colab": {
      "provenance": []
    },
    "kernelspec": {
      "name": "python3",
      "display_name": "Python 3"
    },
    "language_info": {
      "name": "python"
    }
  },
  "cells": [
    {
      "cell_type": "markdown",
      "source": [
        "AI Image Classifier\n"
      ],
      "metadata": {
        "id": "P25yrDt0ByPt"
      }
    },
    {
      "cell_type": "markdown",
      "source": [
        "AI Image Classifier is a machine learning model that can effectively classify Real and AI Generated Images."
      ],
      "metadata": {
        "id": "Na7gtUsoCD3D"
      }
    },
    {
      "cell_type": "code",
      "source": [
        "import numpy as np\n",
        "import matplotlib.pyplot as plt\n",
        "import os\n",
        "import cv2 as cv\n",
        "import random\n",
        "import PIL\n",
        "import pickle"
      ],
      "metadata": {
        "id": "feVclJIFB-Ws"
      },
      "execution_count": null,
      "outputs": []
    },
    {
      "cell_type": "code",
      "source": [
        "data = r\"C:\\Users\\NARENDRA BABU\\Desktop\\dataset_train\"\n",
        "categories = ['Real', 'AiGenerated']"
      ],
      "metadata": {
        "id": "1WRjN3gWCEyq"
      },
      "execution_count": 1,
      "outputs": []
    },
    {
      "cell_type": "code",
      "source": [
        "img_size = 48\n",
        "training_data = []\n",
        "\n",
        "i = 0\n",
        "for category in categories:\n",
        "    path = os.path.join(data,category)\n",
        "    classes = categories.index(category)\n",
        "    for img in os.listdir(path):\n",
        "        i = i + 1\n",
        "        img_array = cv.imread(os.path.join(path,img))\n",
        "        new_array = cv.resize(img_array, (48,48))\n",
        "        new_array = new_array/255\n",
        "        training_data.append([new_array, classes])"
      ],
      "metadata": {
        "id": "XMoNxjzVCi9l"
      },
      "execution_count": 2,
      "outputs": []
    },
    {
      "cell_type": "code",
      "source": [
        "len(training_data), training_data[0][0].shape"
      ],
      "metadata": {
        "id": "C282DpmZCrgW"
      },
      "execution_count": 3,
      "outputs": []
    },
    {
      "cell_type": "code",
      "source": [
        "random.shuffle(training_data)"
      ],
      "metadata": {
        "id": "Gr7og1Z_CyQQ"
      },
      "execution_count": null,
      "outputs": []
    },
    {
      "cell_type": "code",
      "source": [
        "X_train = []\n",
        "y_train = []\n",
        "\n",
        "for features, label in training_data:\n",
        "    X_train.append(features)\n",
        "    y_train.append(label)\n",
        "\n",
        "X_train = np.array(X_train).reshape(-1, img_size, img_size, 3)\n",
        "y_train = np.array(y_train)"
      ],
      "metadata": {
        "id": "IR6k0HYjC02f"
      },
      "execution_count": null,
      "outputs": []
    },
    {
      "cell_type": "code",
      "source": [
        "\n",
        "pickle_out = open(\"X_train.pickle\", \"wb\")\n",
        "pickle.dump(X_train, pickle_out, protocol=4)\n",
        "pickle_out.close()\n",
        "\n",
        "pickle_out = open(\"y_train.pickle\", \"wb\")\n",
        "pickle.dump(y_train, pickle_out, protocol=4)\n",
        "pickle_out.close()"
      ],
      "metadata": {
        "id": "-5qCC_dIC3vV"
      },
      "execution_count": null,
      "outputs": []
    },
    {
      "cell_type": "code",
      "source": [
        "pickle_in = open(\"X_train.pickle\", \"rb\")\n",
        "X_train = pickle.load(pickle_in)\n",
        "\n",
        "pickle_in = open(\"y_train.pickle\", \"rb\")\n",
        "y_train = pickle.load(pickle_in)"
      ],
      "metadata": {
        "id": "l_qxSreZC6VR"
      },
      "execution_count": null,
      "outputs": []
    },
    {
      "cell_type": "markdown",
      "source": [
        "creating the model"
      ],
      "metadata": {
        "id": "pSicUrJ1C_-H"
      }
    },
    {
      "cell_type": "code",
      "source": [
        "\n",
        "import tensorflow as tf\n",
        "from tensorflow import keras\n",
        "from tensorflow.keras import layers, models, Sequential\n",
        "model = keras.Sequential([\n",
        "    keras.layers.Conv2D(32,(3,3), activation='relu', input_shape = (48,48,3)),\n",
        "    keras.layers.MaxPool2D((2,2)),\n",
        "    keras.layers.Dropout(0.2),\n",
        "\n",
        "    keras.layers.Conv2D(64,(3,3), activation='relu'),\n",
        "    keras.layers.MaxPool2D((2,2)),\n",
        "    keras.layers.Dropout(0.2),\n",
        "\n",
        "    keras.layers.Conv2D(128,(3,3), activation='relu'),\n",
        "    keras.layers.MaxPool2D((2,2)),\n",
        "    keras.layers.Dropout(0.2),\n",
        "\n",
        "    keras.layers.Conv2D(256,(3,3), activation='relu'),\n",
        "    keras.layers.MaxPool2D((2,2)),\n",
        "    keras.layers.Dropout(0.2),\n",
        "\n",
        "    keras.layers.Flatten(),\n",
        "    keras.layers.Dense(64, activation='relu'),\n",
        "    keras.layers.Dense(64, activation='relu'),\n",
        "    keras.layers.Dense(1, activation='sigmoid')\n",
        "])\n",
        "\n",
        "model.compile(\n",
        "    optimizer='adam',\n",
        "    loss='binary_crossentropy',\n",
        "    metrics=['accuracy']\n",
        ")"
      ],
      "metadata": {
        "id": "GKmzdqVpDA1P"
      },
      "execution_count": null,
      "outputs": []
    },
    {
      "cell_type": "code",
      "source": [
        "model.summary()"
      ],
      "metadata": {
        "id": "8_PuYj7bDFda"
      },
      "execution_count": null,
      "outputs": []
    },
    {
      "cell_type": "code",
      "source": [
        "model.fit(X_train, y_train, epochs=20)"
      ],
      "metadata": {
        "id": "2AEgiqeyDIdi"
      },
      "execution_count": null,
      "outputs": []
    },
    {
      "cell_type": "code",
      "source": [
        "model.save(\"AIGeneratedModel.h5\")"
      ],
      "metadata": {
        "id": "WIXm61MoDMET"
      },
      "execution_count": null,
      "outputs": []
    },
    {
      "cell_type": "code",
      "source": [
        "model_new = keras.models.load_model(\"AIGeneratedModel.h5\")"
      ],
      "metadata": {
        "id": "Hk0Qc1mkDO62"
      },
      "execution_count": null,
      "outputs": []
    },
    {
      "cell_type": "code",
      "source": [
        "\n",
        "model_new.compile(\n",
        "    optimizer='adam',\n",
        "    loss='binary_crossentropy',\n",
        "    metrics=['accuracy']\n",
        ")\n"
      ],
      "metadata": {
        "id": "bzDnXGQ3DXKR"
      },
      "execution_count": null,
      "outputs": []
    },
    {
      "cell_type": "code",
      "source": [
        "\n",
        "data = r\"C:\\Users\\NARENDRA BABU\\Desktop\\dataset_test\"\n",
        "categories = ['Real', 'AiGenerated']\n",
        "\n",
        "img_size = 48\n",
        "testing_data = []\n",
        "\n",
        "i = 0\n",
        "for category in categories:\n",
        "    path = os.path.join(data,category)\n",
        "    classes = categories.index(category)\n",
        "    for img in os.listdir(path):\n",
        "        i = i + 1\n",
        "        img_array = cv.imread(os.path.join(path,img))\n",
        "        new_array = cv.resize(img_array, (48,48))\n",
        "        new_array = new_array/255\n",
        "        testing_data.append([new_array, classes])\n",
        "\n",
        "random.shuffle(testing_data)\n",
        "\n",
        "X_test = []\n",
        "y_test = []\n",
        "\n",
        "for features, label in testing_data:\n",
        "    X_test.append(features)\n",
        "    y_test.append(label)\n",
        "\n",
        "X_test = np.array(X_test).reshape(-1, img_size, img_size, 3)\n",
        "y_test = np.array(y_test)"
      ],
      "metadata": {
        "id": "JMKp3LsADanr"
      },
      "execution_count": null,
      "outputs": []
    },
    {
      "cell_type": "code",
      "source": [
        "model_new.evaluate(X_test, y_test)"
      ],
      "metadata": {
        "id": "wM4Yad4jDbiq"
      },
      "execution_count": null,
      "outputs": []
    },
    {
      "cell_type": "code",
      "source": [
        "y_predicted = []\n",
        "\n",
        "for arr in y_pred:\n",
        "    if arr[0] <= 0.5:\n",
        "        y_predicted.append(0)\n",
        "    else:\n",
        "        y_predicted.append(1)\n",
        "\n",
        "y_predicted = np.array(y_predicted)"
      ],
      "metadata": {
        "id": "MWuUgHVXDeMr"
      },
      "execution_count": null,
      "outputs": []
    },
    {
      "cell_type": "code",
      "source": [
        "from sklearn.metrics import classification_report\n",
        "\n",
        "print(classification_report(y_test, y_predicted))"
      ],
      "metadata": {
        "id": "IiNyktcSDjev"
      },
      "execution_count": null,
      "outputs": []
    },
    {
      "cell_type": "code",
      "source": [
        "def find_out(path_img):\n",
        "    img_arr = cv.imread(path_img)\n",
        "    plt.imshow(img_arr)\n",
        "    new_arr = cv.resize(img_arr, (48,48))\n",
        "    new_arr = new_arr/255\n",
        "    test = []\n",
        "    test.append(new_arr)\n",
        "    test = np.array(test).reshape(-1, img_size, img_size, 3)\n",
        "    y = model_new.predict(test)\n",
        "    if y[0] <= 0.5:\n",
        "        print(\"The given image is Real.\")\n",
        "    else:\n",
        "        print(\"The given image is AI Generated.\")"
      ],
      "metadata": {
        "id": "Ga1Q00URDmDZ"
      },
      "execution_count": null,
      "outputs": []
    }
  ]
}